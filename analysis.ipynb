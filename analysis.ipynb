{
 "cells": [
  {
   "cell_type": "markdown",
   "id": "f7c41be1",
   "metadata": {},
   "source": [
    "### IMPORTS"
   ]
  },
  {
   "cell_type": "code",
   "execution_count": 1,
   "id": "7dae8afc",
   "metadata": {},
   "outputs": [],
   "source": [
    "import pandas as pd\n",
    "import matplotlib.pyplot as plt\n",
    "import numpy as np\n",
    "from scipy.stats import mannwhitneyu\n",
    "\n",
    "import warnings\n",
    "warnings.simplefilter(action='ignore', category=FutureWarning)"
   ]
  },
  {
   "cell_type": "markdown",
   "id": "050ab7b9",
   "metadata": {},
   "source": [
    "### DATA PROCESSING"
   ]
  },
  {
   "cell_type": "markdown",
   "id": "314c96ae",
   "metadata": {},
   "source": [
    "read the data\n"
   ]
  },
  {
   "cell_type": "code",
   "execution_count": 2,
   "id": "577fc88e",
   "metadata": {},
   "outputs": [
    {
     "data": {
      "text/html": [
       "<div>\n",
       "<style scoped>\n",
       "    .dataframe tbody tr th:only-of-type {\n",
       "        vertical-align: middle;\n",
       "    }\n",
       "\n",
       "    .dataframe tbody tr th {\n",
       "        vertical-align: top;\n",
       "    }\n",
       "\n",
       "    .dataframe thead th {\n",
       "        text-align: right;\n",
       "    }\n",
       "</style>\n",
       "<table border=\"1\" class=\"dataframe\">\n",
       "  <thead>\n",
       "    <tr style=\"text-align: right;\">\n",
       "      <th></th>\n",
       "      <th>timestamp</th>\n",
       "      <th>event</th>\n",
       "      <th>open_type</th>\n",
       "      <th>user_id</th>\n",
       "    </tr>\n",
       "  </thead>\n",
       "  <tbody>\n",
       "    <tr>\n",
       "      <th>0</th>\n",
       "      <td>1752250204033</td>\n",
       "      <td>opened</td>\n",
       "      <td>manual</td>\n",
       "      <td>1</td>\n",
       "    </tr>\n",
       "    <tr>\n",
       "      <th>1</th>\n",
       "      <td>1751836141616</td>\n",
       "      <td>closed</td>\n",
       "      <td>NaN</td>\n",
       "      <td>2</td>\n",
       "    </tr>\n",
       "    <tr>\n",
       "      <th>2</th>\n",
       "      <td>1752304475081</td>\n",
       "      <td>closed</td>\n",
       "      <td>NaN</td>\n",
       "      <td>3</td>\n",
       "    </tr>\n",
       "    <tr>\n",
       "      <th>3</th>\n",
       "      <td>1752498934494</td>\n",
       "      <td>opened</td>\n",
       "      <td>auto</td>\n",
       "      <td>4</td>\n",
       "    </tr>\n",
       "    <tr>\n",
       "      <th>4</th>\n",
       "      <td>1752141991110</td>\n",
       "      <td>closed</td>\n",
       "      <td>NaN</td>\n",
       "      <td>5</td>\n",
       "    </tr>\n",
       "  </tbody>\n",
       "</table>\n",
       "</div>"
      ],
      "text/plain": [
       "       timestamp   event open_type  user_id\n",
       "0  1752250204033  opened    manual        1\n",
       "1  1751836141616  closed       NaN        2\n",
       "2  1752304475081  closed       NaN        3\n",
       "3  1752498934494  opened      auto        4\n",
       "4  1752141991110  closed       NaN        5"
      ]
     },
     "execution_count": 2,
     "metadata": {},
     "output_type": "execute_result"
    }
   ],
   "source": [
    "df = pd.read_csv(\"toolwindow_data.csv\")\n",
    "df.head()"
   ]
  },
  {
   "cell_type": "markdown",
   "id": "e7c257c7",
   "metadata": {},
   "source": [
    "convert timestamps"
   ]
  },
  {
   "cell_type": "code",
   "execution_count": 3,
   "id": "4b59fad5",
   "metadata": {},
   "outputs": [
    {
     "data": {
      "text/html": [
       "<div>\n",
       "<style scoped>\n",
       "    .dataframe tbody tr th:only-of-type {\n",
       "        vertical-align: middle;\n",
       "    }\n",
       "\n",
       "    .dataframe tbody tr th {\n",
       "        vertical-align: top;\n",
       "    }\n",
       "\n",
       "    .dataframe thead th {\n",
       "        text-align: right;\n",
       "    }\n",
       "</style>\n",
       "<table border=\"1\" class=\"dataframe\">\n",
       "  <thead>\n",
       "    <tr style=\"text-align: right;\">\n",
       "      <th></th>\n",
       "      <th>timestamp</th>\n",
       "      <th>event</th>\n",
       "      <th>open_type</th>\n",
       "      <th>user_id</th>\n",
       "    </tr>\n",
       "  </thead>\n",
       "  <tbody>\n",
       "    <tr>\n",
       "      <th>0</th>\n",
       "      <td>2025-07-11 16:10:04.033</td>\n",
       "      <td>opened</td>\n",
       "      <td>manual</td>\n",
       "      <td>1</td>\n",
       "    </tr>\n",
       "    <tr>\n",
       "      <th>1</th>\n",
       "      <td>2025-07-06 21:09:01.616</td>\n",
       "      <td>closed</td>\n",
       "      <td>NaN</td>\n",
       "      <td>2</td>\n",
       "    </tr>\n",
       "    <tr>\n",
       "      <th>2</th>\n",
       "      <td>2025-07-12 07:14:35.081</td>\n",
       "      <td>closed</td>\n",
       "      <td>NaN</td>\n",
       "      <td>3</td>\n",
       "    </tr>\n",
       "    <tr>\n",
       "      <th>3</th>\n",
       "      <td>2025-07-14 13:15:34.494</td>\n",
       "      <td>opened</td>\n",
       "      <td>auto</td>\n",
       "      <td>4</td>\n",
       "    </tr>\n",
       "    <tr>\n",
       "      <th>4</th>\n",
       "      <td>2025-07-10 10:06:31.110</td>\n",
       "      <td>closed</td>\n",
       "      <td>NaN</td>\n",
       "      <td>5</td>\n",
       "    </tr>\n",
       "  </tbody>\n",
       "</table>\n",
       "</div>"
      ],
      "text/plain": [
       "                timestamp   event open_type  user_id\n",
       "0 2025-07-11 16:10:04.033  opened    manual        1\n",
       "1 2025-07-06 21:09:01.616  closed       NaN        2\n",
       "2 2025-07-12 07:14:35.081  closed       NaN        3\n",
       "3 2025-07-14 13:15:34.494  opened      auto        4\n",
       "4 2025-07-10 10:06:31.110  closed       NaN        5"
      ]
     },
     "execution_count": 3,
     "metadata": {},
     "output_type": "execute_result"
    }
   ],
   "source": [
    "df['timestamp'] = pd.to_datetime(df['timestamp'], unit='ms')\n",
    "df.head()"
   ]
  },
  {
   "cell_type": "code",
   "execution_count": 4,
   "id": "ddd7652d",
   "metadata": {},
   "outputs": [
    {
     "data": {
      "text/plain": [
       "3503"
      ]
     },
     "execution_count": 4,
     "metadata": {},
     "output_type": "execute_result"
    }
   ],
   "source": [
    "len(df)"
   ]
  },
  {
   "cell_type": "markdown",
   "id": "73ede338",
   "metadata": {},
   "source": [
    "sort df by user id and timestamp"
   ]
  },
  {
   "cell_type": "code",
   "execution_count": 5,
   "id": "77306a9b",
   "metadata": {},
   "outputs": [
    {
     "data": {
      "text/html": [
       "<div>\n",
       "<style scoped>\n",
       "    .dataframe tbody tr th:only-of-type {\n",
       "        vertical-align: middle;\n",
       "    }\n",
       "\n",
       "    .dataframe tbody tr th {\n",
       "        vertical-align: top;\n",
       "    }\n",
       "\n",
       "    .dataframe thead th {\n",
       "        text-align: right;\n",
       "    }\n",
       "</style>\n",
       "<table border=\"1\" class=\"dataframe\">\n",
       "  <thead>\n",
       "    <tr style=\"text-align: right;\">\n",
       "      <th></th>\n",
       "      <th>timestamp</th>\n",
       "      <th>event</th>\n",
       "      <th>open_type</th>\n",
       "      <th>user_id</th>\n",
       "    </tr>\n",
       "  </thead>\n",
       "  <tbody>\n",
       "    <tr>\n",
       "      <th>0</th>\n",
       "      <td>2025-07-06 18:21:42.123</td>\n",
       "      <td>opened</td>\n",
       "      <td>auto</td>\n",
       "      <td>1</td>\n",
       "    </tr>\n",
       "    <tr>\n",
       "      <th>1</th>\n",
       "      <td>2025-07-06 18:32:26.077</td>\n",
       "      <td>closed</td>\n",
       "      <td>NaN</td>\n",
       "      <td>1</td>\n",
       "    </tr>\n",
       "    <tr>\n",
       "      <th>2</th>\n",
       "      <td>2025-07-06 22:34:18.635</td>\n",
       "      <td>opened</td>\n",
       "      <td>manual</td>\n",
       "      <td>1</td>\n",
       "    </tr>\n",
       "    <tr>\n",
       "      <th>3</th>\n",
       "      <td>2025-07-07 00:52:24.609</td>\n",
       "      <td>closed</td>\n",
       "      <td>NaN</td>\n",
       "      <td>1</td>\n",
       "    </tr>\n",
       "    <tr>\n",
       "      <th>4</th>\n",
       "      <td>2025-07-08 14:38:07.772</td>\n",
       "      <td>opened</td>\n",
       "      <td>manual</td>\n",
       "      <td>1</td>\n",
       "    </tr>\n",
       "  </tbody>\n",
       "</table>\n",
       "</div>"
      ],
      "text/plain": [
       "                timestamp   event open_type  user_id\n",
       "0 2025-07-06 18:21:42.123  opened      auto        1\n",
       "1 2025-07-06 18:32:26.077  closed       NaN        1\n",
       "2 2025-07-06 22:34:18.635  opened    manual        1\n",
       "3 2025-07-07 00:52:24.609  closed       NaN        1\n",
       "4 2025-07-08 14:38:07.772  opened    manual        1"
      ]
     },
     "execution_count": 5,
     "metadata": {},
     "output_type": "execute_result"
    }
   ],
   "source": [
    "df = df.sort_values(by=[\"user_id\", \"timestamp\"]).reset_index(drop=True)\n",
    "df.head()"
   ]
  },
  {
   "cell_type": "markdown",
   "id": "4f20090b",
   "metadata": {},
   "source": [
    "combine the rows for each open-close pair  \n",
    "assumptions  \n",
    "- take the last of the consecutive open events\n",
    "- take the first of the consecutive close events"
   ]
  },
  {
   "cell_type": "code",
   "execution_count": 6,
   "id": "df157d07",
   "metadata": {},
   "outputs": [],
   "source": [
    "df_combined = pd.DataFrame(columns=[\"open_time\", \"close_time\", \"type\", \"user_id\"])\n",
    "\n",
    "for _, group in df.groupby(\"user_id\"):\n",
    "    group = group.reset_index(drop=True)\n",
    "    previous_events = group[\"event\"].shift(1)\n",
    "    next_events = group[\"event\"].shift(-1)\n",
    "\n",
    "    for idx, row in group.iterrows():\n",
    "        prev = previous_events.iloc[idx]\n",
    "        next = next_events.iloc[idx]\n",
    "\n",
    "        if row[\"event\"] == \"opened\" and next == \"closed\":\n",
    "            current_open = [row[\"timestamp\"], pd.NaT, row[\"open_type\"], row[\"user_id\"]]\n",
    "        elif row[\"event\"] == \"closed\" and prev == \"opened\":\n",
    "            current_open[1] = row[\"timestamp\"]\n",
    "            df_combined.loc[len(df_combined)] = current_open"
   ]
  },
  {
   "cell_type": "code",
   "execution_count": 7,
   "id": "befcd942",
   "metadata": {},
   "outputs": [
    {
     "data": {
      "text/html": [
       "<div>\n",
       "<style scoped>\n",
       "    .dataframe tbody tr th:only-of-type {\n",
       "        vertical-align: middle;\n",
       "    }\n",
       "\n",
       "    .dataframe tbody tr th {\n",
       "        vertical-align: top;\n",
       "    }\n",
       "\n",
       "    .dataframe thead th {\n",
       "        text-align: right;\n",
       "    }\n",
       "</style>\n",
       "<table border=\"1\" class=\"dataframe\">\n",
       "  <thead>\n",
       "    <tr style=\"text-align: right;\">\n",
       "      <th></th>\n",
       "      <th>open_time</th>\n",
       "      <th>close_time</th>\n",
       "      <th>type</th>\n",
       "      <th>user_id</th>\n",
       "    </tr>\n",
       "  </thead>\n",
       "  <tbody>\n",
       "    <tr>\n",
       "      <th>0</th>\n",
       "      <td>2025-07-06 18:21:42.123</td>\n",
       "      <td>2025-07-06 18:32:26.077</td>\n",
       "      <td>auto</td>\n",
       "      <td>1</td>\n",
       "    </tr>\n",
       "    <tr>\n",
       "      <th>1</th>\n",
       "      <td>2025-07-06 22:34:18.635</td>\n",
       "      <td>2025-07-07 00:52:24.609</td>\n",
       "      <td>manual</td>\n",
       "      <td>1</td>\n",
       "    </tr>\n",
       "    <tr>\n",
       "      <th>2</th>\n",
       "      <td>2025-07-08 14:38:07.772</td>\n",
       "      <td>2025-07-08 14:57:03.885</td>\n",
       "      <td>manual</td>\n",
       "      <td>1</td>\n",
       "    </tr>\n",
       "    <tr>\n",
       "      <th>3</th>\n",
       "      <td>2025-07-11 16:10:04.033</td>\n",
       "      <td>2025-07-11 16:10:04.781</td>\n",
       "      <td>manual</td>\n",
       "      <td>1</td>\n",
       "    </tr>\n",
       "    <tr>\n",
       "      <th>4</th>\n",
       "      <td>2025-07-11 16:10:05.587</td>\n",
       "      <td>2025-07-11 18:10:32.775</td>\n",
       "      <td>manual</td>\n",
       "      <td>1</td>\n",
       "    </tr>\n",
       "  </tbody>\n",
       "</table>\n",
       "</div>"
      ],
      "text/plain": [
       "                open_time              close_time    type  user_id\n",
       "0 2025-07-06 18:21:42.123 2025-07-06 18:32:26.077    auto        1\n",
       "1 2025-07-06 22:34:18.635 2025-07-07 00:52:24.609  manual        1\n",
       "2 2025-07-08 14:38:07.772 2025-07-08 14:57:03.885  manual        1\n",
       "3 2025-07-11 16:10:04.033 2025-07-11 16:10:04.781  manual        1\n",
       "4 2025-07-11 16:10:05.587 2025-07-11 18:10:32.775  manual        1"
      ]
     },
     "execution_count": 7,
     "metadata": {},
     "output_type": "execute_result"
    }
   ],
   "source": [
    "df_combined.head()"
   ]
  },
  {
   "cell_type": "code",
   "execution_count": 8,
   "id": "b0091dd3",
   "metadata": {},
   "outputs": [
    {
     "data": {
      "text/plain": [
       "1622"
      ]
     },
     "execution_count": 8,
     "metadata": {},
     "output_type": "execute_result"
    }
   ],
   "source": [
    "len(df_combined)"
   ]
  },
  {
   "cell_type": "code",
   "execution_count": 9,
   "id": "b31b99e7",
   "metadata": {},
   "outputs": [
    {
     "data": {
      "text/plain": [
       "open_time     0\n",
       "close_time    0\n",
       "type          0\n",
       "user_id       0\n",
       "dtype: int64"
      ]
     },
     "execution_count": 9,
     "metadata": {},
     "output_type": "execute_result"
    }
   ],
   "source": [
    "df_combined.isna().sum()"
   ]
  },
  {
   "cell_type": "markdown",
   "id": "988a660b",
   "metadata": {},
   "source": [
    "we have no missing values"
   ]
  },
  {
   "cell_type": "markdown",
   "id": "5e7ead64",
   "metadata": {},
   "source": [
    "let's calculate how long this window stays open for each session and add it to the dataframe"
   ]
  },
  {
   "cell_type": "code",
   "execution_count": 10,
   "id": "695968e0",
   "metadata": {},
   "outputs": [
    {
     "data": {
      "text/html": [
       "<div>\n",
       "<style scoped>\n",
       "    .dataframe tbody tr th:only-of-type {\n",
       "        vertical-align: middle;\n",
       "    }\n",
       "\n",
       "    .dataframe tbody tr th {\n",
       "        vertical-align: top;\n",
       "    }\n",
       "\n",
       "    .dataframe thead th {\n",
       "        text-align: right;\n",
       "    }\n",
       "</style>\n",
       "<table border=\"1\" class=\"dataframe\">\n",
       "  <thead>\n",
       "    <tr style=\"text-align: right;\">\n",
       "      <th></th>\n",
       "      <th>open_time</th>\n",
       "      <th>close_time</th>\n",
       "      <th>type</th>\n",
       "      <th>user_id</th>\n",
       "      <th>duration</th>\n",
       "    </tr>\n",
       "  </thead>\n",
       "  <tbody>\n",
       "    <tr>\n",
       "      <th>0</th>\n",
       "      <td>2025-07-06 18:21:42.123</td>\n",
       "      <td>2025-07-06 18:32:26.077</td>\n",
       "      <td>auto</td>\n",
       "      <td>1</td>\n",
       "      <td>0 days 00:10:43.954000</td>\n",
       "    </tr>\n",
       "    <tr>\n",
       "      <th>1</th>\n",
       "      <td>2025-07-06 22:34:18.635</td>\n",
       "      <td>2025-07-07 00:52:24.609</td>\n",
       "      <td>manual</td>\n",
       "      <td>1</td>\n",
       "      <td>0 days 02:18:05.974000</td>\n",
       "    </tr>\n",
       "    <tr>\n",
       "      <th>2</th>\n",
       "      <td>2025-07-08 14:38:07.772</td>\n",
       "      <td>2025-07-08 14:57:03.885</td>\n",
       "      <td>manual</td>\n",
       "      <td>1</td>\n",
       "      <td>0 days 00:18:56.113000</td>\n",
       "    </tr>\n",
       "    <tr>\n",
       "      <th>3</th>\n",
       "      <td>2025-07-11 16:10:04.033</td>\n",
       "      <td>2025-07-11 16:10:04.781</td>\n",
       "      <td>manual</td>\n",
       "      <td>1</td>\n",
       "      <td>0 days 00:00:00.748000</td>\n",
       "    </tr>\n",
       "    <tr>\n",
       "      <th>4</th>\n",
       "      <td>2025-07-11 16:10:05.587</td>\n",
       "      <td>2025-07-11 18:10:32.775</td>\n",
       "      <td>manual</td>\n",
       "      <td>1</td>\n",
       "      <td>0 days 02:00:27.188000</td>\n",
       "    </tr>\n",
       "  </tbody>\n",
       "</table>\n",
       "</div>"
      ],
      "text/plain": [
       "                open_time              close_time    type  user_id  \\\n",
       "0 2025-07-06 18:21:42.123 2025-07-06 18:32:26.077    auto        1   \n",
       "1 2025-07-06 22:34:18.635 2025-07-07 00:52:24.609  manual        1   \n",
       "2 2025-07-08 14:38:07.772 2025-07-08 14:57:03.885  manual        1   \n",
       "3 2025-07-11 16:10:04.033 2025-07-11 16:10:04.781  manual        1   \n",
       "4 2025-07-11 16:10:05.587 2025-07-11 18:10:32.775  manual        1   \n",
       "\n",
       "                duration  \n",
       "0 0 days 00:10:43.954000  \n",
       "1 0 days 02:18:05.974000  \n",
       "2 0 days 00:18:56.113000  \n",
       "3 0 days 00:00:00.748000  \n",
       "4 0 days 02:00:27.188000  "
      ]
     },
     "execution_count": 10,
     "metadata": {},
     "output_type": "execute_result"
    }
   ],
   "source": [
    "df_combined[\"duration\"] = df_combined[\"close_time\"] - df_combined[\"open_time\"]\n",
    "df_combined.head()"
   ]
  },
  {
   "cell_type": "markdown",
   "id": "4163b620",
   "metadata": {},
   "source": [
    "### EXPLORATORY DATA ANALYSIS"
   ]
  },
  {
   "cell_type": "code",
   "execution_count": 11,
   "id": "9bb477a9",
   "metadata": {},
   "outputs": [
    {
     "name": "stdout",
     "output_type": "stream",
     "text": [
      "Summary Statistics by Session Type:\n",
      "                            mean                 median  \\\n",
      "type                                                      \n",
      "auto      0 days 01:45:23.446365 0 days 00:03:04.820500   \n",
      "manual 0 days 00:24:30.259863344 0 days 00:00:12.059000   \n",
      "\n",
      "                          min                    max                       std  \n",
      "type                                                                            \n",
      "auto   0 days 00:00:00.154000 4 days 17:51:13.748000 0 days 07:57:06.912755071  \n",
      "manual 0 days 00:00:00.015000 2 days 02:15:18.694000 0 days 02:58:45.427369136  \n"
     ]
    }
   ],
   "source": [
    "summary = df_combined.groupby('type')['duration'].agg(['mean', 'median', 'min', 'max', 'std'])\n",
    "print(\"Summary Statistics by Session Type:\")\n",
    "print(summary)"
   ]
  },
  {
   "cell_type": "markdown",
   "id": "f59e0bc5",
   "metadata": {},
   "source": [
    "- Mean vs Median\n",
    "\n",
    "Auto:  \n",
    "Mean: ~1 hour 45 min  \n",
    "Median: ~3 min  \n",
    "Observation: Huge difference => distribution is heavily right-skewed. Most auto opens are very short, but some sessions last days, pulling the mean up.  \n",
    "\n",
    "Manual:  \n",
    "Mean: ~24 min  \n",
    "Median: ~12 sec  \n",
    "Observation: Extreme skew. Most manual opens are extremely short, but a few long sessions inflate the mean.  \n",
    "\n",
    "- Min and Max\n",
    "\n",
    "Auto: 0.15 sec and 4 days 17 hours  \n",
    "Manual: 0.015 sec and 2 days 2 hours  \n",
    "\n",
    "- Standard Deviation\n",
    "\n",
    "Auto: ~7 hours 57 min  \n",
    "Manual: ~2 hours 58 min  \n",
    "Observation: High variability => duration distributions are highly spread and skewed."
   ]
  },
  {
   "cell_type": "markdown",
   "id": "35e83c5b",
   "metadata": {},
   "source": [
    "There is a strong skew in both distributions. The mean is much greater than the median => heavy right skew (many short sessions, a few extremely long ones).\n",
    "\n",
    "Auto sessions are long, variable, passive. Long max and high standard deviation show that some tool windows stay open for hours or days.\n",
    "Manual sessions are short and intentional. Median is only 12 seconds. Users likely open and close them for quick checks or actions."
   ]
  },
  {
   "cell_type": "markdown",
   "id": "627a0aa9",
   "metadata": {},
   "source": [
    "CDF plot"
   ]
  },
  {
   "cell_type": "code",
   "execution_count": 12,
   "id": "bfd25489",
   "metadata": {},
   "outputs": [
    {
     "data": {
      "image/png": "[encoded data removed]",
      "text/plain": [
       "<Figure size 1000x600 with 1 Axes>"
      ]
     },
     "metadata": {},
     "output_type": "display_data"
    }
   ],
   "source": [
    "df_combined['duration_sec'] = df_combined['duration'].dt.total_seconds()\n",
    "\n",
    "plt.figure(figsize=(10,6))\n",
    "for t in df_combined['type'].unique():\n",
    "    sorted_durations = np.sort(df_combined[df_combined['type'] == t]['duration_sec'])\n",
    "    cdf = np.arange(len(sorted_durations)) / len(sorted_durations)\n",
    "    plt.plot(sorted_durations, cdf, label=t)\n",
    "\n",
    "plt.title(\"CDF of Tool Window Durations by Session Type\")\n",
    "plt.xlabel(\"Duration (seconds)\")\n",
    "plt.ylabel(\"CDF\")\n",
    "plt.legend()\n",
    "plt.grid(True)\n",
    "plt.show()"
   ]
  },
  {
   "cell_type": "markdown",
   "id": "29e3d1d9",
   "metadata": {},
   "source": [
    "There is a steeper rise for manual sessions (orange line). Manual sessions reach high CDF values (e.g., 0.9 or 0.95) much faster.  \n",
    "=> 90–95% of manual windows close quickly, within a relatively short time span.\n",
    "\n",
    "Auto sessions (blue line) rise more gradually. The blue line lags behind => auto windows stay open longer.  \n",
    "Even though both eventually reach 1.0, a significant portion of auto sessions have higher durations before closing.\n",
    "\n",
    "There is a heavy tail for auto durations. The long horizontal stretch of the blue line at the right side (past 100k seconds) indicates a few extremely long auto sessions.\n",
    "\n",
    "Manual sessions plateau earlier => Suggests deliberate user control. People open and close them intentionally."
   ]
  },
  {
   "cell_type": "markdown",
   "id": "3f4a52ba",
   "metadata": {},
   "source": [
    "Let's identify 95th percentile durations (when CDF = 0.95)."
   ]
  },
  {
   "cell_type": "code",
   "execution_count": 13,
   "id": "e978bae1",
   "metadata": {},
   "outputs": [
    {
     "name": "stdout",
     "output_type": "stream",
     "text": [
      "     type  95th_percentile_duration\n",
      "0    auto 0 days 08:42:55.611499999\n",
      "1  manual 0 days 00:44:31.599549999\n"
     ]
    }
   ],
   "source": [
    "percentiles = (df_combined.groupby('type')['duration'].quantile(0.95).reset_index(name='95th_percentile_duration'))\n",
    "print(percentiles)"
   ]
  },
  {
   "cell_type": "markdown",
   "id": "ddcfbe3a",
   "metadata": {},
   "source": [
    "Auto sessions stay open much longer. 95% of auto tool window sessions last up to 8.7 hours, and the top 5% go beyond that. This suggests users rarely close automatically opened windows manually, they stay open passively for long stretches.\n",
    "\n",
    "Manual sessions are short and deliberate. 95% of manual sessions last less than an hour, showing users typically open these windows only when needed, then close them.\n",
    "\n",
    "Duration gap is ~10 times. The auto windows persist roughly 10 times longer than manual ones."
   ]
  },
  {
   "cell_type": "markdown",
   "id": "9d23134f",
   "metadata": {},
   "source": [
    "Let's do Mann–Whitney U test to verify that auto and manual sessions truly differ."
   ]
  },
  {
   "cell_type": "code",
   "execution_count": 14,
   "id": "cdda8e91",
   "metadata": {},
   "outputs": [
    {
     "name": "stdout",
     "output_type": "stream",
     "text": [
      "P-value: 1.9954601785625834e-63\n"
     ]
    }
   ],
   "source": [
    "auto = df_combined.loc[df_combined[\"type\"]==\"auto\", \"duration\"]\n",
    "manual = df_combined.loc[df_combined[\"type\"]==\"manual\", \"duration\"]\n",
    "\n",
    "stat, p = mannwhitneyu(auto, manual, alternative=\"two-sided\")\n",
    "print(f\"P-value: {p}\")"
   ]
  },
  {
   "cell_type": "markdown",
   "id": "b02244d6",
   "metadata": {},
   "source": [
    "The null hypothesis is \"There is no difference between auto and manual session durations.\"\n",
    "\n",
    "The alternative hypothesis is \"Auto and manual durations come from different distributions.\"\n",
    "\n",
    "Because your p-value << 0.05 (actually near zero), we reject the null hypothesis with overwhelming confidence.\n",
    "\n",
    "Conclusion: There is a statistically significant difference between auto and manual tool window durations."
   ]
  }
 ],
 "metadata": {
  "kernelspec": {
   "display_name": "venv",
   "language": "python",
   "name": "python3"
  },
  "language_info": {
   "codemirror_mode": {
    "name": "ipython",
    "version": 3
   },
   "file_extension": ".py",
   "mimetype": "text/x-python",
   "name": "python",
   "nbconvert_exporter": "python",
   "pygments_lexer": "ipython3",
   "version": "3.10.6"
  }
 },
 "nbformat": 4,
 "nbformat_minor": 5
}
